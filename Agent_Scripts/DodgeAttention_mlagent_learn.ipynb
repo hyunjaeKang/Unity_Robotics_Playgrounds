{
 "cells": [
  {
   "cell_type": "markdown",
   "id": "70a95c2c",
   "metadata": {},
   "source": [
    "# DogeAttention"
   ]
  },
  {
   "cell_type": "code",
   "execution_count": 1,
   "id": "c8ba6fd4",
   "metadata": {},
   "outputs": [],
   "source": [
    "import os\n",
    "import platform\n",
    "\n",
    "# Global Setting\n",
    "cur_dir = os.getcwd()\n",
    "env_dir = os.path.abspath(os.path.join(cur_dir, \"..\", \"Unity6000_Envs\"))\n",
    "output_dir = os.path.abspath(os.path.join(cur_dir, \"temp\", \"mlagents_learn_output\"))"
   ]
  },
  {
   "cell_type": "code",
   "execution_count": 2,
   "id": "6a62e191",
   "metadata": {},
   "outputs": [
    {
     "name": "stdout",
     "output_type": "stream",
     "text": [
      "/Users/hyunjae.k/110_HyunJae_Git/2025_Playgrounds/Unity_Robotics_Playgrounds/Unity6000_Envs/Dodge_Attention_Darwin.app\n"
     ]
    }
   ],
   "source": [
    "# Unity Enviroment\n",
    "game = \"Dodge_Attention\"\n",
    "baseport = 1998\n",
    "os_name = platform.system()\n",
    "\n",
    "if os_name == 'Linux':\n",
    "    env_name = os.path.join(env_dir, f\"{game}_{os_name}.x86_64\")\n",
    "elif os_name == 'Darwin':\n",
    "    env_name = os.path.join(env_dir, f\"{game}_{os_name}.app\")\n",
    "env_fp = os.path.join(env_dir, env_name)\n",
    "print(env_fp)"
   ]
  },
  {
   "cell_type": "markdown",
   "id": "1a25ba76",
   "metadata": {},
   "source": [
    "## Training PPO\n"
   ]
  },
  {
   "cell_type": "code",
   "execution_count": null,
   "id": "360531c5",
   "metadata": {},
   "outputs": [
    {
     "name": "stdout",
     "output_type": "stream",
     "text": [
      "/Users/hyunjae.k/110_HyunJae_Git/2025_Playgrounds/Unity_Robotics_Playgrounds/Agent_Scripts/config/Dodge_attention_ppo.yaml\n",
      "Dodge_Att_PPO\n",
      "usage: mlagents-learn [-h] [--env ENV_PATH] [--resume] [--deterministic]\n",
      "                      [--force] [--run-id RUN_ID] [--initialize-from RUN_ID]\n",
      "                      [--seed SEED] [--inference] [--base-port BASE_PORT]\n",
      "                      [--num-envs NUM_ENVS] [--num-areas NUM_AREAS] [--debug]\n",
      "                      [--env-args ...]\n",
      "                      [--max-lifetime-restarts MAX_LIFETIME_RESTARTS]\n",
      "                      [--restarts-rate-limit-n RESTARTS_RATE_LIMIT_N]\n",
      "                      [--restarts-rate-limit-period-s RESTARTS_RATE_LIMIT_PERIOD_S]\n",
      "                      [--torch] [--tensorflow] [--results-dir RESULTS_DIR]\n",
      "                      [--timeout-wait TIMEOUT_WAIT] [--width WIDTH]\n",
      "                      [--height HEIGHT] [--quality-level QUALITY_LEVEL]\n",
      "                      [--time-scale TIME_SCALE]\n",
      "                      [--target-frame-rate TARGET_FRAME_RATE]\n",
      "                      [--capture-frame-rate CAPTURE_FRAME_RATE]\n",
      "                      [--no-graphics] [--no-graphics-monitor]\n",
      "                      [--torch-device DEVICE]\n",
      "                      [trainer_config_path]\n",
      "mlagents-learn: error: argument --base-port: invalid int value: '=1998'\n"
     ]
    }
   ],
   "source": [
    "config_ppo_fp = os.path.join(cur_dir, \"config\", \"Dodge_attention_ppo.yaml\")\n",
    "run_ppo_id = \"Dodge_Att_PPO\"\n",
    "print(config_ppo_fp)\n",
    "print(run_ppo_id)\n",
    "\n",
    "!mlagents-learn $config_ppo_fp \\\n",
    "               --env=$env_fp \\\n",
    "               --results-dir=$output_dir \\\n",
    "               --run-id=$run_ppo_id --base-port=$baseport"
   ]
  },
  {
   "cell_type": "markdown",
   "id": "d5d8c3c8",
   "metadata": {},
   "source": [
    "## Training SAC"
   ]
  },
  {
   "cell_type": "code",
   "execution_count": null,
   "id": "590578c7",
   "metadata": {},
   "outputs": [
    {
     "name": "stdout",
     "output_type": "stream",
     "text": [
      "/Users/hyunjae.k/110_HyunJae_Git/2025_Playgrounds/Unity_Robotics_Playgrounds/Agent_Scripts/config/Dodge_attention_ppo.yaml\n",
      "Dodge_Att_SAC\n",
      "usage: mlagents-learn [-h] [--env ENV_PATH] [--resume] [--deterministic]\n",
      "                      [--force] [--run-id RUN_ID] [--initialize-from RUN_ID]\n",
      "                      [--seed SEED] [--inference] [--base-port BASE_PORT]\n",
      "                      [--num-envs NUM_ENVS] [--num-areas NUM_AREAS] [--debug]\n",
      "                      [--env-args ...]\n",
      "                      [--max-lifetime-restarts MAX_LIFETIME_RESTARTS]\n",
      "                      [--restarts-rate-limit-n RESTARTS_RATE_LIMIT_N]\n",
      "                      [--restarts-rate-limit-period-s RESTARTS_RATE_LIMIT_PERIOD_S]\n",
      "                      [--torch] [--tensorflow] [--results-dir RESULTS_DIR]\n",
      "                      [--timeout-wait TIMEOUT_WAIT] [--width WIDTH]\n",
      "                      [--height HEIGHT] [--quality-level QUALITY_LEVEL]\n",
      "                      [--time-scale TIME_SCALE]\n",
      "                      [--target-frame-rate TARGET_FRAME_RATE]\n",
      "                      [--capture-frame-rate CAPTURE_FRAME_RATE]\n",
      "                      [--no-graphics] [--no-graphics-monitor]\n",
      "                      [--torch-device DEVICE]\n",
      "                      [trainer_config_path]\n",
      "mlagents-learn: error: argument --base-port: invalid int value: '=1998'\n"
     ]
    }
   ],
   "source": [
    "config_sac_fp = os.path.join(cur_dir, \"config\", \"Dodge_attention_sac.yaml\")\n",
    "run_sac_id = \"Dodge_Att_SAC\"\n",
    "print(config_ppo_fp)\n",
    "print(run_sac_id)\n",
    "\n",
    "!mlagents-learn $config_ppo_fp \\\n",
    "               --env=$env_fp \\\n",
    "               --results-dir=$output_dir \\\n",
    "               --run-id=$run_sac_id --base-port=$baseport"
   ]
  },
  {
   "cell_type": "markdown",
   "id": "1a47b032",
   "metadata": {},
   "source": [
    "## Training POCA"
   ]
  },
  {
   "cell_type": "code",
   "execution_count": null,
   "id": "6886efe5",
   "metadata": {},
   "outputs": [
    {
     "name": "stdout",
     "output_type": "stream",
     "text": [
      "/Users/hyunjae.k/110_HyunJae_Git/2025_Playgrounds/Unity_Robotics_Playgrounds/Agent_Scripts/config/Dodge_attention_poca.yaml\n",
      "Dodge_Att_POCA\n",
      "usage: mlagents-learn [-h] [--env ENV_PATH] [--resume] [--deterministic]\n",
      "                      [--force] [--run-id RUN_ID] [--initialize-from RUN_ID]\n",
      "                      [--seed SEED] [--inference] [--base-port BASE_PORT]\n",
      "                      [--num-envs NUM_ENVS] [--num-areas NUM_AREAS] [--debug]\n",
      "                      [--env-args ...]\n",
      "                      [--max-lifetime-restarts MAX_LIFETIME_RESTARTS]\n",
      "                      [--restarts-rate-limit-n RESTARTS_RATE_LIMIT_N]\n",
      "                      [--restarts-rate-limit-period-s RESTARTS_RATE_LIMIT_PERIOD_S]\n",
      "                      [--torch] [--tensorflow] [--results-dir RESULTS_DIR]\n",
      "                      [--timeout-wait TIMEOUT_WAIT] [--width WIDTH]\n",
      "                      [--height HEIGHT] [--quality-level QUALITY_LEVEL]\n",
      "                      [--time-scale TIME_SCALE]\n",
      "                      [--target-frame-rate TARGET_FRAME_RATE]\n",
      "                      [--capture-frame-rate CAPTURE_FRAME_RATE]\n",
      "                      [--no-graphics] [--no-graphics-monitor]\n",
      "                      [--torch-device DEVICE]\n",
      "                      [trainer_config_path]\n",
      "mlagents-learn: error: argument --base-port: invalid int value: '=1998'\n"
     ]
    }
   ],
   "source": [
    "config_poca_fp = os.path.join(cur_dir, \"config\", \"Dodge_attention_poca.yaml\")\n",
    "run_poca_id = \"Dodge_Att_POCA\"\n",
    "print(config_poca_fp)\n",
    "print(run_poca_id)\n",
    "\n",
    "!mlagents-learn $config_poca_fp \\\n",
    "               --env=$env_fp \\\n",
    "               --results-dir=$output_dir \\\n",
    "               --run-id=$run_poca_id --base-port=$baseport\n"
   ]
  }
 ],
 "metadata": {
  "kernelspec": {
   "display_name": "mlagents",
   "language": "python",
   "name": "python3"
  },
  "language_info": {
   "codemirror_mode": {
    "name": "ipython",
    "version": 3
   },
   "file_extension": ".py",
   "mimetype": "text/x-python",
   "name": "python",
   "nbconvert_exporter": "python",
   "pygments_lexer": "ipython3",
   "version": "3.10.12"
  }
 },
 "nbformat": 4,
 "nbformat_minor": 5
}
